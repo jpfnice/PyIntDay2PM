{
 "cells": [
  {
   "cell_type": "markdown",
   "id": "eastern-brick",
   "metadata": {},
   "source": [
    "# Logging in python\n",
    "\n",
    "Logging is a handy tool in a programmer’s toolbox. \n",
    "\n",
    "Logs provide developers with an ability to monitor in detail the progress and errors and flow of information in an application. \n",
    "\n",
    "If an error occurs, logs can provide more insights than a stack trace by telling you what the state of the program was before it arrived at the line of code where the error occurred.\n",
    "\n",
    "By logging useful data from the right places, you can find and fix errors easily but also use the data to analyze the performance of the application to plan for scaling. \n",
    "\n",
    "## The logging funnel\n",
    "\n",
    "Logging encourages you to log a lot of data, and then gives multiple mechanisms for filtering out that data. It’s similar to a funnel: lots of data goes in, but most of it gets filtered out before leaving the system as formatted logs.\n",
    "\n",
    "That leads to simple application code that stays the same (just log everything!) from environment to environment. \n",
    "\n",
    "Filters can then be configured via settings and config files to match the environment: if you’re debugging locally you may want to filter nothing out and create log records of everything, but on production, you only want to know about errors, in which case you can add more filters.\n",
    "\n",
    "\n",
    "## Historical background: Log4J\n",
    "\n",
    "Logging in python is heavily influenced by a logging paradigm popularized by the __log4j__ java library.\n",
    "\n",
    "## The Logging Module\n",
    "\n",
    "The logging module in Python is simply named __`logging`__:"
   ]
  },
  {
   "cell_type": "code",
   "execution_count": null,
   "id": "compressed-proposal",
   "metadata": {},
   "outputs": [],
   "source": [
    "import logging"
   ]
  },
  {
   "cell_type": "markdown",
   "id": "refined-france",
   "metadata": {},
   "source": [
    "With the logging module imported, you can use a “__logger__” to log messages that you want to see.\n",
    "The logging module provides you with a default logger (the `root` logger) that allows you to get started without needing to do much configuration.\n",
    "\n",
    "By default, there are 5 standard levels indicating the *severity* of events. Each has a corresponding method that can be used to log events at that level of severity. The defined levels, in order of increasing severity, are the following:\n",
    "\n",
    "   * DEBUG      \n",
    "   * INFO     \n",
    "   * WARNING    \n",
    "   * ERROR    \n",
    "   * CRITICAL    \n",
    "   \n",
    "The corresponding methods for each level can be called as shown in the following example:"
   ]
  },
  {
   "cell_type": "code",
   "execution_count": 1,
   "id": "silver-grounds",
   "metadata": {},
   "outputs": [
    {
     "name": "stderr",
     "output_type": "stream",
     "text": [
      "WARNING:my_logger:This is a warning message \n",
      "ERROR:my_logger:This is an error message \n",
      "CRITICAL:my_logger:This is a critical message \n"
     ]
    }
   ],
   "source": [
    "import logging\n",
    "logger = logging.getLogger('my_logger')\n",
    "\n",
    "logging.basicConfig()\n",
    "\n",
    "logger.debug('This is a debug message ')\n",
    "logger.info('This is a info message ')\n",
    "logger.warning('This is a warning message ')\n",
    "logger.error('This is an error message ')\n",
    "logger.critical('This is a critical message ')"
   ]
  },
  {
   "cell_type": "markdown",
   "id": "everyday-entertainment",
   "metadata": {},
   "source": [
    "Here is what happening :\n",
    "\n",
    "1. The output lines start with `WARNING` / `ERROR` / `CRITICAL` which are the severity levels we used\n",
    "2. followed by `my_logger:` - this is the name of the __logger__ we are logging through\n",
    "3. followed by our custom error message\n",
    "\n",
    "This format, which shows the level, name, and message separated by a colon (:), is the default __output format__ (it can be customized to include things like timestamp, line number, and other details).\n",
    "\n",
    "__Note__: the `debug()` and `info()` messages didn’t get logged because, by default, the logging module logs the messages with a severity level of `WARNING` or above (you can change that by configuring the logging module if you want). "
   ]
  },
  {
   "cell_type": "markdown",
   "id": "permanent-omega",
   "metadata": {},
   "source": [
    "## Basic Configurations\n",
    "\n",
    "You can use the __`basicConfig(**kwargs)`__ method to configure the \"*root*\" logger.\n",
    "\n",
    "The default setting in `basicConfig()` is to set the logger to write to the console in the following format:\n",
    "\n",
    "```\n",
    "SEVERITY:logger name:error message\n",
    "```\n",
    "\n",
    "Some of the commonly used parameters for `basicConfig()` are the following:\n",
    "\n",
    "- `level`: The logger will be set to the specified severity level.\n",
    "- `filename`: This specifies a file to log messages.\n",
    "- `filemode`: If filename is given, the file is opened in this mode. The default is __a__, which means append.\n",
    "- `format`: This is the format of the log message.\n",
    "\n",
    "__Example__: By using the `level` parameter, you can set what level of log messages you want to record, and this would enable all logging calls at or above that level to be logged\n"
   ]
  },
  {
   "cell_type": "code",
   "execution_count": 5,
   "id": "broad-concrete",
   "metadata": {},
   "outputs": [
    {
     "data": {
      "text/plain": [
       "<module 'logging' from 'C:\\\\Anaconda3\\\\lib\\\\logging\\\\__init__.py'>"
      ]
     },
     "execution_count": 5,
     "metadata": {},
     "output_type": "execute_result"
    },
    {
     "name": "stderr",
     "output_type": "stream",
     "text": [
      "DEBUG:my_logger:This WILL get logged\n"
     ]
    }
   ],
   "source": [
    "from importlib import reload\n",
    "import logging\n",
    "reload(logging)\n",
    "\n",
    "logger = logging.getLogger('my_logger')\n",
    "\n",
    "logging.basicConfig(\n",
    "    level=logging.DEBUG # All events at or above DEBUG level will now get logged.\n",
    "    \n",
    "    )\n",
    "# This function does nothing if the root logger already has handlers configured for it.\n",
    "# jupyter calls basicConfig and set handler automatically hence the use of reload()\n",
    "\n",
    "logger.debug('This WILL get logged')"
   ]
  },
  {
   "cell_type": "markdown",
   "id": "attended-responsibility",
   "metadata": {},
   "source": [
    "It should be noted that usually calling `basicConfig()` to configure the root logger works only if the root logger has not been configured before: this function should usually only be called __once__ hence the use of `reload()` in the above example.\n",
    "\n",
    "## Logging to file\n",
    "\n",
    "`basicConfig()`can be used to configure logging to output to a file rather than the console. \n",
    "\n",
    "`filename` and `filemode` parameters are used, and you can decide the format of the message using `format`. "
   ]
  },
  {
   "cell_type": "code",
   "execution_count": 16,
   "id": "quick-drink",
   "metadata": {},
   "outputs": [
    {
     "data": {
      "text/plain": [
       "<module 'logging' from 'C:\\\\Anaconda3\\\\lib\\\\logging\\\\__init__.py'>"
      ]
     },
     "execution_count": 16,
     "metadata": {},
     "output_type": "execute_result"
    }
   ],
   "source": [
    "from importlib import reload\n",
    "import logging\n",
    "reload(logging)\n",
    "\n",
    "logger = logging.getLogger('my_logger')\n",
    "\n",
    "logging.basicConfig(\n",
    "    filename='app.log', # write to this file\n",
    "    filemode='a', # open in append mode (the default)\n",
    "    format='%(name)s - %(levelname)s - %(message)s'\n",
    "    )\n",
    "# logging does not write to console anymore, but instead to the specified file:\n",
    "logging.warning('This will get logged to a file')"
   ]
  },
  {
   "cell_type": "code",
   "execution_count": 17,
   "id": "weighted-notification",
   "metadata": {},
   "outputs": [
    {
     "name": "stdout",
     "output_type": "stream",
     "text": [
      "root - WARNING - This will get logged to a file\n",
      "\n"
     ]
    }
   ],
   "source": [
    "from pathlib import Path\n",
    "print(Path('app.log').read_text())"
   ]
  },
  {
   "cell_type": "markdown",
   "id": "reasonable-desire",
   "metadata": {},
   "source": [
    "## Formatting the Output\n",
    "\n",
    "While you can pass any variable that can be represented as a string from your program as a message to your logs, there are some basic elements that are already a part of the `LogRecord` and can be easily added to the output format. If you want to log the process ID along with the level and message, you can do something like this:"
   ]
  },
  {
   "cell_type": "code",
   "execution_count": 18,
   "id": "southwest-reason",
   "metadata": {},
   "outputs": [
    {
     "data": {
      "text/plain": [
       "<module 'logging' from 'C:\\\\Anaconda3\\\\lib\\\\logging\\\\__init__.py'>"
      ]
     },
     "execution_count": 18,
     "metadata": {},
     "output_type": "execute_result"
    },
    {
     "name": "stderr",
     "output_type": "stream",
     "text": [
      "ID:34808 - WARNING - This Warning contains the process ID of the process who logged it\n"
     ]
    }
   ],
   "source": [
    "from importlib import reload\n",
    "import logging\n",
    "reload(logging)\n",
    "\n",
    "logger = logging.getLogger('my_logger')\n",
    "\n",
    "logging.basicConfig(format='ID:%(process)d - %(levelname)s - %(message)s')\n",
    "logger.warning('This Warning contains the process ID of the process who logged it')"
   ]
  },
  {
   "cell_type": "markdown",
   "id": "liberal-terrorism",
   "metadata": {},
   "source": [
    "`format=` can take a string with `LogRecord` attributes in any arrangement you like."
   ]
  },
  {
   "cell_type": "code",
   "execution_count": 6,
   "id": "meaningful-encyclopedia",
   "metadata": {},
   "outputs": [
    {
     "data": {
      "text/plain": [
       "<module 'logging' from 'C:\\\\Anaconda3\\\\lib\\\\logging\\\\__init__.py'>"
      ]
     },
     "execution_count": 6,
     "metadata": {},
     "output_type": "execute_result"
    },
    {
     "name": "stderr",
     "output_type": "stream",
     "text": [
      "2021-11-02 17:57:34,645 - This message has a date/time timestamp\n"
     ]
    },
    {
     "name": "stdout",
     "output_type": "stream",
     "text": [
      "<class 'logging.Logger'>\n"
     ]
    }
   ],
   "source": [
    "from importlib import reload\n",
    "import logging\n",
    "reload(logging)\n",
    "\n",
    "logger = logging.getLogger('my_logger')\n",
    "logging.basicConfig(format='%(asctime)s - %(message)s', level=logging.INFO)\n",
    "logger.info('This message has a date/time timestamp')"
   ]
  },
  {
   "cell_type": "markdown",
   "id": "regulated-lighter",
   "metadata": {},
   "source": [
    "`%(asctime)s` adds the time of creation of the `LogRecord`. The format can be changed using the `datefmt` attribute, which uses the same formatting language as the formatting functions in the `datetime` module, such as `time.strftime()`:"
   ]
  },
  {
   "cell_type": "code",
   "execution_count": 20,
   "id": "unnecessary-omaha",
   "metadata": {},
   "outputs": [
    {
     "data": {
      "text/plain": [
       "<module 'logging' from 'C:\\\\Anaconda3\\\\lib\\\\logging\\\\__init__.py'>"
      ]
     },
     "execution_count": 20,
     "metadata": {},
     "output_type": "execute_result"
    },
    {
     "name": "stderr",
     "output_type": "stream",
     "text": [
      "27-Oct-21 21:18:30 - Date looks different for this message\n"
     ]
    }
   ],
   "source": [
    "from importlib import reload\n",
    "import logging\n",
    "reload(logging)\n",
    "\n",
    "logger = logging.getLogger('my_logger')\n",
    "logging.basicConfig(format='%(asctime)s - %(message)s', datefmt='%d-%b-%y %H:%M:%S')\n",
    "logger.warning('Date looks different for this message')\n"
   ]
  },
  {
   "cell_type": "markdown",
   "id": "broke-martial",
   "metadata": {},
   "source": [
    "## Classes and Functions of the logging module\n",
    "\n",
    "A default logger, named __`root`__, is used by the __`logging`__ module whenever its functions are called directly like this: `logging.debug()`. \n",
    "\n",
    "You can define your own logger by creating an object of the __`Logger`__ class (this is recommended if your application is composed of multiple modules). \n",
    "\n",
    "The most commonly used classes defined in the __`logging`__ module are the following:\n",
    "\n",
    "- `Logger`: This is the class whose objects will be used in the application code directly to call the functions.\n",
    "\n",
    "- `LogRecord`: Loggers automatically create LogRecord objects that have all the information related to the event being logged: the name of the logger, the function, the line number, the message, and more.\n",
    "\n",
    "- `Handler`: Handlers send the LogRecord to the required output destination, like the console or a file. Handler is a base for subclasses like StreamHandler, FileHandler, SMTPHandler, HTTPHandler, and more. These subclasses send the logging outputs to corresponding destinations, like sys.stdout or a disk file.\n",
    "\n",
    "- `Formatter`: This is where you specify the format of the output by specifying a string format that lists out the attributes that the output should contain.\n",
    "\n",
    "\n"
   ]
  },
  {
   "cell_type": "markdown",
   "id": "senior-herald",
   "metadata": {},
   "source": [
    "## Using Handlers\n",
    "\n",
    "Handlers send the log messages to configured destinations like the standard output stream or a file or over HTTP or to your email via SMTP.\n",
    "\n",
    "A logger that you create can have more than one handler, which means you can set it up to be saved to a log file and also send it over email.\n",
    "\n",
    "Like loggers, you can also set the severity level in handlers. This is useful if you want to set multiple handlers for the same logger but want different severity levels for each of them. For example, you may want logs with level WARNING and above to be logged to the console, but everything with level ERROR and above should also be saved to a file. \n",
    "\n",
    "__Note__: as we will see later in this lesson, people usually use __configuration files__ rather than code, to setup loggers/handlers."
   ]
  },
  {
   "cell_type": "code",
   "execution_count": 23,
   "id": "copyrighted-learning",
   "metadata": {},
   "outputs": [
    {
     "name": "stderr",
     "output_type": "stream",
     "text": [
      "__main__ - WARNING - This is a warning\n",
      "__main__ - WARNING - This is a warning\n",
      "__main__ - ERROR - This is an error\n",
      "__main__ - ERROR - This is an error\n"
     ]
    },
    {
     "name": "stdout",
     "output_type": "stream",
     "text": [
      "2021-10-28 20:11:27,390 - __main__ - ERROR - This is an error\n",
      "2021-10-28 20:11:27,390 - __main__ - ERROR - This is an error\n",
      "\n"
     ]
    }
   ],
   "source": [
    "import logging\n",
    "\n",
    "# Create a custom logger\n",
    "logger = logging.getLogger(__name__)\n",
    "logger.propagate = False # do not pass logs to the default logger\n",
    "\n",
    "# Create handlers\n",
    "c_handler = logging.StreamHandler()\n",
    "f_handler = logging.FileHandler('file.log', mode='w')\n",
    "c_handler.setLevel(logging.WARNING)\n",
    "f_handler.setLevel(logging.ERROR)\n",
    "\n",
    "# Create formatters and add it to handlers\n",
    "c_format = logging.Formatter('%(name)s - %(levelname)s - %(message)s')\n",
    "f_format = logging.Formatter('%(asctime)s - %(name)s - %(levelname)s - %(message)s')\n",
    "c_handler.setFormatter(c_format)\n",
    "f_handler.setFormatter(f_format)\n",
    "\n",
    "# Add handlers to the logger\n",
    "logger.addHandler(c_handler)\n",
    "logger.addHandler(f_handler)\n",
    "\n",
    "logger.warning('This is a warning')\n",
    "logger.error('This is an error')\n",
    "\n",
    "print(open('file.log').read())"
   ]
  },
  {
   "cell_type": "markdown",
   "id": "included-butler",
   "metadata": {},
   "source": [
    "Here, `logger.warning()` is creating a `LogRecord` that holds all the information of the event and passing it to all the Handlers that it has: `c_handler` and `f_handler`.\n",
    "\n",
    "- `c_handler` is a `StreamHandler` with level `WARNING` and takes the info from the LogRecord to generate an output in the format specified and prints it to the console. \n",
    "- `f_handler` is a `FileHandler` with level `ERROR`, and it ignores this LogRecord as its level is WARNING.\n",
    "\n",
    "When `logger.error()` is called, `c_handler` behaves exactly as before, and `f_handler` gets a LogRecord at the level of `ERROR`, so it proceeds to generate an output just like c_handler, but instead of printing it to console, it writes it to the specified file"
   ]
  },
  {
   "cell_type": "markdown",
   "id": "impossible-virtue",
   "metadata": {},
   "source": [
    "## Using configuration files\n",
    "\n",
    "While it is possible to configure logging as shown above using the module and class functions, it is more flexible and useful to use configuration files for this\n",
    "\n",
    "We can configure logging by creating a config file or a dictionary and loading it using `fileConfig()` or `dictConfig()` respectively. These are useful in case you want to change your logging configuration in a running application.\n",
    "\n",
    "Here’s an example file configuration:"
   ]
  },
  {
   "cell_type": "raw",
   "id": "martial-complaint",
   "metadata": {},
   "source": [
    "[loggers]\n",
    "keys=root,sampleLogger\n",
    "\n",
    "[handlers]\n",
    "keys=consoleHandler\n",
    "\n",
    "[formatters]\n",
    "keys=sampleFormatter\n",
    "\n",
    "[logger_root]\n",
    "level=DEBUG\n",
    "handlers=consoleHandler\n",
    "\n",
    "[logger_sampleLogger]\n",
    "level=DEBUG\n",
    "handlers=consoleHandler\n",
    "qualname=sampleLogger\n",
    "propagate=0\n",
    "\n",
    "[handler_consoleHandler]\n",
    "class=StreamHandler\n",
    "level=DEBUG\n",
    "formatter=sampleFormatter\n",
    "args=(sys.stdout,)\n",
    "\n",
    "[formatter_sampleFormatter]\n",
    "format=%(asctime)s | %(levelname)-7s | %(name)s - %(message)s"
   ]
  },
  {
   "cell_type": "markdown",
   "id": "british-differential",
   "metadata": {},
   "source": [
    "The same configuration can be written in a YAML format:\n",
    "\n",
    "```\n",
    "\n",
    "formatters:\n",
    "  simple:\n",
    "    format: '%(asctime)s | %(levelname)-7s | %(name)s - %(message)s'\n",
    "handlers:\n",
    "  console:\n",
    "    class: logging.StreamHandler\n",
    "```\n",
    "In the above file, there are two loggers, one handler, and one formatter. After their names are defined, they are configured by adding the words logger, handler, and formatter before their names separated by an underscore.\n",
    "\n",
    "To load this config file, you have to use `fileConfig()`."
   ]
  },
  {
   "cell_type": "code",
   "execution_count": null,
   "id": "tired-degree",
   "metadata": {},
   "outputs": [],
   "source": [
    "import logging\n",
    "import logging.config\n",
    "\n",
    "logging.config.fileConfig(fname='example.conf', disable_existing_loggers=False)\n",
    "\n",
    "# Get the logger specified in the file\n",
    "logger = logging.getLogger(__name__)\n",
    "\n",
    "logger.debug('This is a debug message')"
   ]
  },
  {
   "cell_type": "markdown",
   "id": "mental-ecuador",
   "metadata": {},
   "source": [
    "## Loggers\n",
    "\n",
    "Loggers are the application-level interface to the logging system. A system may have multiple different loggers (usually one per module), each with their own name and rules.\n",
    "\n",
    "We mostly deal directly with the objects of the __`Logger`__ class, which are instantiated using the module-level function `logging.getLogger(name)`. \n",
    "\n",
    "__Note__: Multiple calls to `getLogger()` with the same name will return a reference to the same __`Logger`__ object, which saves us from passing the logger objects to every part where it’s needed. \n",
    "\n",
    "__Note__: Using `__name__` as the name of the logger helps localize a log message to a particular file in our project: the name of the logger itself would tell us from where the events are being logged.\n"
   ]
  },
  {
   "cell_type": "code",
   "execution_count": null,
   "id": "informational-private",
   "metadata": {},
   "outputs": [],
   "source": [
    "logger = logging.getLogger('example_logger')\n",
    "logger.warning('This is a warning')"
   ]
  },
  {
   "cell_type": "markdown",
   "id": "stunning-vacation",
   "metadata": {},
   "source": [
    "### Logger hierarchy\n",
    "\n",
    "Loggers have a hierarchy: you can create individual loggers and each logger has a parent. \n",
    "\n",
    "At the top of the hierarchy is the `__root__` logger (all loggers are descendants of the `root` logger). \n",
    "\n",
    "The previous example creates a custom logger named _example_logger_, it inherits implicitly the handler and formatting from the _root_ logger, this is why it outputs to console, and uses the same formatting as the root logger.\n",
    "\n",
    "A logger hierarchy can be created by asking a parent logger for a new child logger:"
   ]
  },
  {
   "cell_type": "code",
   "execution_count": 24,
   "id": "sealed-effort",
   "metadata": {},
   "outputs": [
    {
     "name": "stdout",
     "output_type": "stream",
     "text": [
      "myapp.ui\n",
      "myapp\n"
     ]
    }
   ],
   "source": [
    "log_myapp = logging.getLogger(\"myapp\")\n",
    "log_myapp_ui = log_myapp.getChild(\"ui\")\n",
    "print(log_myapp_ui.name)        # 'myapp.ui'\n",
    "print(log_myapp_ui.parent.name) # 'myapp'"
   ]
  },
  {
   "cell_type": "markdown",
   "id": "laden-flight",
   "metadata": {},
   "source": [
    "Or you can (and should!) use dot notation:"
   ]
  },
  {
   "cell_type": "code",
   "execution_count": 25,
   "id": "least-hurricane",
   "metadata": {},
   "outputs": [
    {
     "name": "stdout",
     "output_type": "stream",
     "text": [
      "myapp.ui\n",
      "myapp\n"
     ]
    }
   ],
   "source": [
    "log_myapp_ui = logging.getLogger(\"myapp.ui\")\n",
    "print(log_myapp_ui.name)        # 'myapp.ui'\n",
    "print(log_myapp_ui.parent.name) # 'myapp'"
   ]
  },
  {
   "cell_type": "markdown",
   "id": "protective-reunion",
   "metadata": {},
   "source": [
    "__Note__: the logger names don’t include the `root` logger. \n",
    "\n",
    "The function call `log=logging.getLogger('debug0.x')` creates a logger `x` which is a child of `debug0` which itself is a child of the `root` logger. \n",
    "\n",
    "Each logger passes log messages on to its parent: when logging to the logger `log`, it will pass on the message to its parent, and its parent will pass the message to the root logger. \n",
    "\n",
    "__Note__: when you use `basicConfig()` what it does is configure the root logger.\n",
    "\n",
    "## Filters\n",
    "\n",
    "To create a custom `Filter` you must implement a subclass of `logging.Filter`.\n",
    "\n",
    "It will have one method, `filter(record)`, that examines the log record and returns `True` to log it or `False` to discard it. \n",
    "\n",
    "Then you can install the filter on either a `Logger` or a `Handler` by calling its `addFilter(filter)` method.\n"
   ]
  },
  {
   "cell_type": "code",
   "execution_count": 7,
   "id": "numeric-return",
   "metadata": {},
   "outputs": [
    {
     "name": "stderr",
     "output_type": "stream",
     "text": [
      "2021-11-02 18:23:55,126 - another problem\n"
     ]
    }
   ],
   "source": [
    "class NoParsingFilter(logging.Filter):\n",
    "    def filter(self, record):\n",
    "        return not record.getMessage().startswith('parsing')\n",
    "import logging\n",
    "\n",
    "# Create a custom logger\n",
    "logger = logging.getLogger(__name__)\n",
    "logger.addFilter(NoParsingFilter())\n",
    "logger.warning(\"parsing file1 problem\")\n",
    "logger.warning(\"another problem\")\n",
    "logger.warning(\"parsing file2 problem\")"
   ]
  },
  {
   "cell_type": "markdown",
   "id": "suspected-keeping",
   "metadata": {},
   "source": [
    "## Exceptional logging of exceptions\n",
    "\n",
    "You can use the __`logging.exception()`__ from within the except: handler/block to log the current exception along with the trace information, prepended with a message.\n",
    "\n",
    "Note that using `logging.exception()`, the severity level is ERROR.\n",
    "\n",
    "This method should only be called from an exception handler.\n",
    "```\n",
    "try:\n",
    "    # code in here\n",
    "except Exception as e:\n",
    "    logging.exception(e)\n",
    "```\n",
    "\n",
    "__Note__: Exception info is added to the logging message. \n",
    "\n",
    "The use of the `exc_info` argument is an alternative `logging.exception()`, that gives the possibility to use any severity level:\n",
    "```\n",
    "try:\n",
    "    # code in here\n",
    "except Exception as e:\n",
    "    logging.error(e, exc_info=True)\n",
    "```"
   ]
  },
  {
   "cell_type": "code",
   "execution_count": 27,
   "id": "upper-review",
   "metadata": {},
   "outputs": [
    {
     "name": "stderr",
     "output_type": "stream",
     "text": [
      "28-Oct-21 21:35:55 - Problem ...\n",
      "Traceback (most recent call last):\n",
      "  File \"<ipython-input-27-15addf783904>\", line 7, in <module>\n",
      "    print(10/0)\n",
      "ZeroDivisionError: division by zero\n"
     ]
    }
   ],
   "source": [
    "# Get the logger specified in the file\n",
    "logger = logging.getLogger(__name__)\n",
    "\n",
    "logger.debug('This is a debug message')\n",
    "\n",
    "try:\n",
    "    print(10/0)\n",
    "except:\n",
    "    logging.exception(\"Problem ...\")"
   ]
  },
  {
   "cell_type": "code",
   "execution_count": null,
   "id": "suitable-maintenance",
   "metadata": {},
   "outputs": [],
   "source": []
  }
 ],
 "metadata": {
  "kernelspec": {
   "display_name": "Python 3",
   "language": "python",
   "name": "python3"
  },
  "language_info": {
   "codemirror_mode": {
    "name": "ipython",
    "version": 3
   },
   "file_extension": ".py",
   "mimetype": "text/x-python",
   "name": "python",
   "nbconvert_exporter": "python",
   "pygments_lexer": "ipython3",
   "version": "3.7.1"
  }
 },
 "nbformat": 4,
 "nbformat_minor": 5
}
